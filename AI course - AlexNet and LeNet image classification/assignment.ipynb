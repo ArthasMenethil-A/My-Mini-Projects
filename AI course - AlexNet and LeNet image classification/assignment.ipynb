{
 "cells": [
  {
   "cell_type": "markdown",
   "id": "dec3a977",
   "metadata": {},
   "source": [
    "# AI COURSE - FIRST ASSIGNMENT\n",
    "## MUTLICLASS CLASSIFICATION PROBLEM WITH IMAGES \n",
    "We re-do the steps from the previous notebook for augmented images and re-train the models"
   ]
  },
  {
   "cell_type": "markdown",
   "id": "db37b3c1",
   "metadata": {},
   "source": [
    "### == IMPORTS ==========================================\n"
   ]
  },
  {
   "cell_type": "markdown",
   "id": "62edf4f9",
   "metadata": {},
   "source": [
    "**general imports**"
   ]
  },
  {
   "cell_type": "code",
   "execution_count": null,
   "id": "77c5465e",
   "metadata": {},
   "outputs": [],
   "source": [
    "import os \n",
    "import shutil \n",
    "import random \n",
    "import pathlib\n",
    "\n",
    "import numpy as np\n",
    "import matplotlib.pyplot as plt \n",
    "import cv2 \n",
    "import PIL"
   ]
  },
  {
   "cell_type": "markdown",
   "id": "dbf0e3ab",
   "metadata": {},
   "source": [
    "**tensorflow imports**"
   ]
  },
  {
   "cell_type": "code",
   "execution_count": null,
   "id": "8ef8ee1b",
   "metadata": {},
   "outputs": [],
   "source": [
    "import tensorflow as tf\n",
    "from tensorflow import keras\n",
    "from tensorflow.keras import layers, models, losses, datasets\n",
    "from tensorflow.keras.models import Sequential\n",
    "from tensorflow.keras.layers import Conv2D, AveragePooling2D, \\\n",
    "    Activation, Flatten, Dense, Lambda, MaxPooling2D, Dropout"
   ]
  },
  {
   "cell_type": "markdown",
   "id": "72c73b96",
   "metadata": {},
   "source": [
    "### == CHECKING THE DATA ================================\n"
   ]
  },
  {
   "cell_type": "markdown",
   "id": "91e7a410",
   "metadata": {},
   "source": [
    "**making the path**"
   ]
  },
  {
   "cell_type": "code",
   "execution_count": null,
   "id": "cd8628b1",
   "metadata": {},
   "outputs": [],
   "source": [
    "data_dir = '.\\\\data'\n",
    "data_dir = pathlib.Path(data_dir)\n",
    "data_dir"
   ]
  },
  {
   "cell_type": "markdown",
   "id": "2fb6a69d",
   "metadata": {},
   "source": [
    "**listing the images**"
   ]
  },
  {
   "cell_type": "code",
   "execution_count": null,
   "id": "9793e7d0",
   "metadata": {},
   "outputs": [],
   "source": [
    "list(data_dir.glob('*/*.jpg'))[:5]"
   ]
  },
  {
   "cell_type": "markdown",
   "id": "7a64ac89",
   "metadata": {},
   "source": [
    "**how many images do we have**"
   ]
  },
  {
   "cell_type": "code",
   "execution_count": null,
   "id": "32cd2326",
   "metadata": {},
   "outputs": [],
   "source": [
    "image_count = len(list(data_dir.glob('*/*.jpg')))\n",
    "print(image_count)"
   ]
  },
  {
   "cell_type": "markdown",
   "id": "5b3748f3",
   "metadata": {},
   "source": [
    "**loading the image paths**"
   ]
  },
  {
   "cell_type": "code",
   "execution_count": null,
   "id": "0b482e18",
   "metadata": {
    "scrolled": true
   },
   "outputs": [],
   "source": [
    "bikes = list(data_dir.glob('bike/*'))\n",
    "buses = list(data_dir.glob('bus/*')) \n",
    "cars  = list(data_dir.glob('car/*'))\n",
    "print(bikes[5])\n",
    "print(buses[5])\n",
    "print(cars[5])"
   ]
  },
  {
   "cell_type": "markdown",
   "id": "fb8434a5",
   "metadata": {},
   "source": [
    "**looking at samples**"
   ]
  },
  {
   "cell_type": "code",
   "execution_count": null,
   "id": "92f90563",
   "metadata": {},
   "outputs": [],
   "source": [
    "PIL.Image.open(str(bikes[1]))"
   ]
  },
  {
   "cell_type": "code",
   "execution_count": null,
   "id": "a8ba1be6",
   "metadata": {},
   "outputs": [],
   "source": [
    "PIL.Image.open(str(buses[8]))"
   ]
  },
  {
   "cell_type": "code",
   "execution_count": null,
   "id": "894fa25b",
   "metadata": {},
   "outputs": [],
   "source": [
    "PIL.Image.open(str(cars[1]))"
   ]
  },
  {
   "cell_type": "markdown",
   "id": "a2445f30",
   "metadata": {},
   "source": [
    "### == LOADING THE DATA ================================\n"
   ]
  },
  {
   "cell_type": "markdown",
   "id": "232b3830",
   "metadata": {},
   "source": [
    "**constructing image path dictionary**"
   ]
  },
  {
   "cell_type": "code",
   "execution_count": null,
   "id": "3231e75c",
   "metadata": {},
   "outputs": [],
   "source": [
    "vehicles_images_dict = {\n",
    "    'bikes': list(data_dir.glob('bike/*')),\n",
    "    'buses': list(data_dir.glob('bus/*')),\n",
    "    'cars':  list(data_dir.glob('car/*')),\n",
    "}"
   ]
  },
  {
   "cell_type": "markdown",
   "id": "7817dd33",
   "metadata": {},
   "source": [
    "**constructing label dictionary**"
   ]
  },
  {
   "cell_type": "code",
   "execution_count": null,
   "id": "2f6f9350",
   "metadata": {},
   "outputs": [],
   "source": [
    "vehicles_labels_dict = {\n",
    "    'bikes': 0, \n",
    "    'buses': 1,\n",
    "    'cars': 2,\n",
    "}"
   ]
  },
  {
   "cell_type": "markdown",
   "id": "59fd74e7",
   "metadata": {},
   "source": [
    "**double checking the dictionary**"
   ]
  },
  {
   "cell_type": "code",
   "execution_count": null,
   "id": "94761139",
   "metadata": {},
   "outputs": [],
   "source": [
    "vehicles_images_dict['bikes'][:5]"
   ]
  },
  {
   "cell_type": "code",
   "execution_count": null,
   "id": "105fe15e",
   "metadata": {},
   "outputs": [],
   "source": [
    "str(vehicles_images_dict['bikes'][0])"
   ]
  },
  {
   "cell_type": "markdown",
   "id": "ca53f6fd",
   "metadata": {},
   "source": [
    "**loading the images into numpy arrays**"
   ]
  },
  {
   "cell_type": "code",
   "execution_count": null,
   "id": "04f2631c",
   "metadata": {},
   "outputs": [],
   "source": [
    "X, y = [], []\n",
    "\n",
    "for vehicle_name, images in vehicles_images_dict.items():\n",
    "    for image in images: \n",
    "        img = cv2.imread(str(image))\n",
    "        resized_img = cv2.resize(img, (32, 32))\n",
    "        X.append(resized_img)\n",
    "        y.append(vehicles_labels_dict[vehicle_name])\n",
    "\n",
    "X = np.array(X)\n",
    "y = np.array(y)"
   ]
  },
  {
   "cell_type": "code",
   "execution_count": null,
   "id": "3fcfe9ad",
   "metadata": {
    "scrolled": true
   },
   "outputs": [],
   "source": [
    "y.shape"
   ]
  },
  {
   "cell_type": "markdown",
   "id": "c0bf8ec3",
   "metadata": {},
   "source": [
    "### == SPLITTING DATA ====================================\n"
   ]
  },
  {
   "cell_type": "code",
   "execution_count": null,
   "id": "28709ca5",
   "metadata": {},
   "outputs": [],
   "source": [
    "from sklearn.model_selection import train_test_split\n",
    "X_train, X_test, y_train, y_test = train_test_split(X, y, random_state=0)"
   ]
  },
  {
   "cell_type": "markdown",
   "id": "18214e6f",
   "metadata": {},
   "source": [
    "### == LENET-5 MODEL ====================================\n",
    "#### (WITHOUT IMAGE AUGMENTATION)\n"
   ]
  },
  {
   "cell_type": "markdown",
   "id": "0719d1bb",
   "metadata": {},
   "source": [
    "**initializing the model and adding the layers**"
   ]
  },
  {
   "cell_type": "code",
   "execution_count": null,
   "id": "af14ce54",
   "metadata": {},
   "outputs": [],
   "source": [
    "num_classes = 3\n",
    "\n",
    "model = Sequential()\n",
    "\n",
    "model.add(Conv2D(6, 5, activation='tanh', input_shape=X_train.shape[1:]))\n",
    "model.add(AveragePooling2D(2))\n",
    "model.add(Activation('sigmoid'))\n",
    "model.add(Conv2D(16, 5, activation='tanh'))\n",
    "model.add(AveragePooling2D(2))\n",
    "model.add(Activation('sigmoid'))\n",
    "model.add(Conv2D(120, 5, activation='tanh'))\n",
    "model.add(Flatten())\n",
    "model.add(Dense(84, activation='tanh'))\n",
    "model.add(Dense(num_classes, activation='softmax'))\n",
    "\n",
    "# checking the model layers\n",
    "model.summary()"
   ]
  },
  {
   "cell_type": "markdown",
   "id": "2d37375e",
   "metadata": {},
   "source": [
    "**compiling the model**"
   ]
  },
  {
   "cell_type": "code",
   "execution_count": null,
   "id": "b788126a",
   "metadata": {},
   "outputs": [],
   "source": [
    "model.compile(optimizer='adam', loss=losses.sparse_categorical_crossentropy, metrics=['accuracy'])"
   ]
  },
  {
   "cell_type": "markdown",
   "id": "1af698fb",
   "metadata": {},
   "source": [
    "**fitting the model**"
   ]
  },
  {
   "cell_type": "code",
   "execution_count": null,
   "id": "47b74e3e",
   "metadata": {},
   "outputs": [],
   "source": [
    "history = model.fit(X_train, y_train, batch_size=64, epochs=50, validation_data=(X_test, y_test))"
   ]
  },
  {
   "cell_type": "markdown",
   "id": "46001ef2",
   "metadata": {},
   "source": [
    "**plotting the loss function and accuracy over epochs**"
   ]
  },
  {
   "cell_type": "code",
   "execution_count": null,
   "id": "9fd9285c",
   "metadata": {},
   "outputs": [],
   "source": [
    "fig, axs = plt.subplots(2, 1, figsize=(15,15))\n",
    "\n",
    "axs[0].plot(history.history['loss'])\n",
    "axs[0].plot(history.history['val_loss'])\n",
    "axs[0].title.set_text('Training Loss vs Validation Loss')\n",
    "axs[0].legend(['Train', 'Val'])\n",
    "\n",
    "axs[1].plot(history.history['accuracy'])\n",
    "axs[1].plot(history.history['val_accuracy'])\n",
    "axs[1].title.set_text('Training Accuracy vs Validation Accuracy')\n",
    "axs[1].legend(['Train', 'Val'])"
   ]
  },
  {
   "cell_type": "markdown",
   "id": "03b67905",
   "metadata": {},
   "source": [
    "**evaluation of the model**"
   ]
  },
  {
   "cell_type": "code",
   "execution_count": null,
   "id": "573a335b",
   "metadata": {},
   "outputs": [],
   "source": [
    "model.evaluate(X_test, y_test)"
   ]
  },
  {
   "cell_type": "markdown",
   "id": "16236a10",
   "metadata": {},
   "source": [
    "### == ALEXNET MODEL ===================================\n",
    "#### (WITHOUT IMAGE AUGMENTATION)"
   ]
  },
  {
   "cell_type": "markdown",
   "id": "c8bf23b7",
   "metadata": {},
   "source": [
    "**initializing the model and adding the layers**"
   ]
  },
  {
   "cell_type": "code",
   "execution_count": null,
   "id": "33224621",
   "metadata": {
    "scrolled": true
   },
   "outputs": [],
   "source": [
    "model = models.Sequential()\n",
    "\n",
    "model.add(layers.experimental.preprocessing.Resizing(224, 224, interpolation=\"bilinear\", input_shape=X_train.shape[1:]))\n",
    "model.add(Conv2D(96, 11, strides=4, padding='same'))\n",
    "model.add(Lambda(tf.nn.local_response_normalization))\n",
    "model.add(Activation('relu'))\n",
    "model.add(MaxPooling2D(3, strides=2))\n",
    "model.add(Conv2D(256, 5, strides=4, padding='same'))\n",
    "model.add(Lambda(tf.nn.local_response_normalization))\n",
    "model.add(Activation('relu'))\n",
    "model.add(MaxPooling2D(3, strides=2))\n",
    "model.add(Conv2D(384, 3, strides=4, padding='same'))\n",
    "model.add(Activation('relu'))\n",
    "model.add(Conv2D(384, 3, strides=4, padding='same'))\n",
    "model.add(Activation('relu'))\n",
    "model.add(Conv2D(256, 3, strides=4, padding='same'))\n",
    "model.add(Activation('relu'))\n",
    "model.add(Flatten())\n",
    "model.add(Dense(4096, activation='relu'))\n",
    "model.add(Dropout(0.5))\n",
    "model.add(Dense(4096, activation='relu'))\n",
    "model.add(Dropout(0.5))\n",
    "model.add(Dense(3, activation='softmax'))\n",
    "\n",
    "model.summary()"
   ]
  },
  {
   "cell_type": "markdown",
   "id": "a739a625",
   "metadata": {},
   "source": [
    "**compiling the model**"
   ]
  },
  {
   "cell_type": "code",
   "execution_count": null,
   "id": "89c2542d",
   "metadata": {},
   "outputs": [],
   "source": [
    "model.compile(optimizer='adam', loss=losses.sparse_categorical_crossentropy, metrics=['accuracy'])"
   ]
  },
  {
   "cell_type": "markdown",
   "id": "bc75a9d0",
   "metadata": {},
   "source": [
    "**fitting the model**"
   ]
  },
  {
   "cell_type": "code",
   "execution_count": null,
   "id": "3ede7266",
   "metadata": {},
   "outputs": [],
   "source": [
    "history = model.fit(X_train, y_train, batch_size=64, epochs=50, validation_data=(X_test, y_test))"
   ]
  },
  {
   "cell_type": "markdown",
   "id": "78c4f63d",
   "metadata": {},
   "source": [
    "**plotting the loss function and accuracy over epochs**"
   ]
  },
  {
   "cell_type": "code",
   "execution_count": null,
   "id": "b08b4760",
   "metadata": {},
   "outputs": [],
   "source": [
    "fig, axs = plt.subplots(2, 1, figsize=(15,15))\n",
    "\n",
    "axs[0].plot(history.history['loss'])\n",
    "axs[0].plot(history.history['val_loss'])\n",
    "axs[0].title.set_text('Training Loss vs Validation Loss')\n",
    "axs[0].legend(['Train', 'Val'])\n",
    "\n",
    "axs[1].plot(history.history['accuracy'])\n",
    "axs[1].plot(history.history['val_accuracy'])\n",
    "axs[1].title.set_text('Training Accuracy vs Validation Accuracy')\n",
    "axs[1].legend(['Train', 'Val'])"
   ]
  },
  {
   "cell_type": "code",
   "execution_count": null,
   "id": "737fff91",
   "metadata": {},
   "outputs": [],
   "source": [
    "model.evaluate(X_test, y_test)"
   ]
  },
  {
   "cell_type": "markdown",
   "id": "0ffbfd78",
   "metadata": {},
   "source": [
    "### == IMAGE AUGMENTATION ==============================\n",
    "\n"
   ]
  },
  {
   "cell_type": "markdown",
   "id": "f0965e6c",
   "metadata": {},
   "source": [
    "**defining a data augmentation function**"
   ]
  },
  {
   "cell_type": "code",
   "execution_count": null,
   "id": "f437e40d",
   "metadata": {},
   "outputs": [],
   "source": [
    "img_height = 32\n",
    "img_width = 32\n",
    "data_augmentation = keras.Sequential(\n",
    "  [\n",
    "    layers.experimental.preprocessing.RandomFlip(\"horizontal\", \n",
    "                                                 input_shape=(img_height, \n",
    "                                                              img_width,\n",
    "                                                              3)),\n",
    "    layers.experimental.preprocessing.RandomRotation(0.1),\n",
    "    layers.experimental.preprocessing.RandomZoom(0.1),\n",
    "  ]\n",
    ")"
   ]
  },
  {
   "cell_type": "markdown",
   "id": "c1564d92",
   "metadata": {},
   "source": [
    "**checking the difference of original image and augmented image**"
   ]
  },
  {
   "cell_type": "code",
   "execution_count": null,
   "id": "10b6280e",
   "metadata": {
    "scrolled": true
   },
   "outputs": [],
   "source": [
    "plt.axis('off')\n",
    "plt.imshow(X[5])"
   ]
  },
  {
   "cell_type": "code",
   "execution_count": null,
   "id": "1ab649fb",
   "metadata": {
    "scrolled": true
   },
   "outputs": [],
   "source": [
    "plt.axis('off')\n",
    "plt.imshow(data_augmentation(X)[5].numpy().astype(\"uint8\"))"
   ]
  },
  {
   "cell_type": "markdown",
   "id": "08936336",
   "metadata": {},
   "source": [
    "### == LENET-5 MODEL ====================================\n",
    "#### (USING IMAGE AUGMENTATION)\n"
   ]
  },
  {
   "cell_type": "code",
   "execution_count": null,
   "id": "742b4348",
   "metadata": {},
   "outputs": [],
   "source": [
    "num_classes = 3\n",
    "\n",
    "model = Sequential()\n",
    "\n",
    "model.add(data_augmentation)\n",
    "model.add(Conv2D(6, 5, activation='tanh', input_shape=X_train.shape[1:]))\n",
    "model.add(AveragePooling2D(2))\n",
    "model.add(Activation('sigmoid'))\n",
    "model.add(Conv2D(16, 5, activation='tanh'))\n",
    "model.add(AveragePooling2D(2))\n",
    "model.add(Activation('sigmoid'))\n",
    "model.add(Conv2D(120, 5, activation='tanh'))\n",
    "model.add(Flatten())\n",
    "model.add(Dense(84, activation='tanh'))\n",
    "model.add(Dense(num_classes, activation='softmax'))\n",
    "\n",
    "# checking the model layers\n",
    "model.summary()"
   ]
  },
  {
   "cell_type": "code",
   "execution_count": null,
   "id": "bab18c3b",
   "metadata": {},
   "outputs": [],
   "source": [
    "model.compile(optimizer='adam', loss=losses.sparse_categorical_crossentropy, metrics=['accuracy'])"
   ]
  },
  {
   "cell_type": "code",
   "execution_count": null,
   "id": "4ebf25e9",
   "metadata": {},
   "outputs": [],
   "source": [
    "history = model.fit(X_train, y_train, batch_size=64, epochs=50, validation_data=(X_test, y_test))"
   ]
  },
  {
   "cell_type": "code",
   "execution_count": null,
   "id": "e316febd",
   "metadata": {},
   "outputs": [],
   "source": [
    "fig, axs = plt.subplots(2, 1, figsize=(15,15))\n",
    "\n",
    "axs[0].plot(history.history['loss'])\n",
    "axs[0].plot(history.history['val_loss'])\n",
    "axs[0].title.set_text('Training Loss vs Validation Loss')\n",
    "axs[0].legend(['Train', 'Val'])\n",
    "\n",
    "axs[1].plot(history.history['accuracy'])\n",
    "axs[1].plot(history.history['val_accuracy'])\n",
    "axs[1].title.set_text('Training Accuracy vs Validation Accuracy')\n",
    "axs[1].legend(['Train', 'Val'])"
   ]
  },
  {
   "cell_type": "code",
   "execution_count": null,
   "id": "1316bc84",
   "metadata": {},
   "outputs": [],
   "source": [
    "model.evaluate(X_test, y_test)"
   ]
  }
 ],
 "metadata": {
  "kernelspec": {
   "display_name": "AIcourse",
   "language": "python",
   "name": "aicourse"
  },
  "language_info": {
   "codemirror_mode": {
    "name": "ipython",
    "version": 3
   },
   "file_extension": ".py",
   "mimetype": "text/x-python",
   "name": "python",
   "nbconvert_exporter": "python",
   "pygments_lexer": "ipython3",
   "version": "3.10.4"
  }
 },
 "nbformat": 4,
 "nbformat_minor": 5
}

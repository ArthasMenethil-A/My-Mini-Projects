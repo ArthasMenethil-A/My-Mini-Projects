{
 "cells": [
  {
   "cell_type": "markdown",
   "id": "5e3dd9d6",
   "metadata": {},
   "source": [
    "# MINI PROJECT 2 - IMAGE PROCESSING \n",
    "## (PART 1: CUBE DETECTION)"
   ]
  },
  {
   "cell_type": "markdown",
   "id": "c831a45c",
   "metadata": {},
   "source": [
    "### imports"
   ]
  },
  {
   "cell_type": "code",
   "execution_count": 1,
   "id": "64cefa1c",
   "metadata": {},
   "outputs": [],
   "source": [
    "import numpy as np \n",
    "import cv2\n",
    "import os\n",
    "import imutils\n",
    "import argparse"
   ]
  },
  {
   "cell_type": "code",
   "execution_count": 2,
   "id": "309be598",
   "metadata": {},
   "outputs": [
    {
     "name": "stdout",
     "output_type": "stream",
     "text": [
      "Collecting imutils\n",
      "  Using cached imutils-0.5.4-py3-none-any.whl\n",
      "Installing collected packages: imutils\n",
      "  Attempting uninstall: imutils\n",
      "    Found existing installation: imutils 0.5.4\n",
      "    Uninstalling imutils-0.5.4:\n",
      "      Successfully uninstalled imutils-0.5.4\n",
      "Successfully installed imutils-0.5.4\n"
     ]
    }
   ],
   "source": [
    "!pip install -U --force-reinstall imutils"
   ]
  },
  {
   "cell_type": "markdown",
   "id": "e2d86eb3",
   "metadata": {},
   "source": [
    "### adding image paths"
   ]
  },
  {
   "cell_type": "code",
   "execution_count": 3,
   "id": "1ca4e360",
   "metadata": {},
   "outputs": [
    {
     "data": {
      "text/plain": [
       "['Pictures/pic1.png', 'Pictures/pic2.png', 'Pictures/pic3.png']"
      ]
     },
     "execution_count": 3,
     "metadata": {},
     "output_type": "execute_result"
    }
   ],
   "source": [
    "# intializing image_path list \n",
    "images = []\n",
    "\n",
    "# adding image paths to images list \n",
    "image_path = 'Pictures/'\n",
    "all_images = os.listdir(image_path)\n",
    "for image in all_images:\n",
    "    images.append(image_path + image)\n",
    "images"
   ]
  },
  {
   "cell_type": "markdown",
   "id": "5c566ea0",
   "metadata": {},
   "source": [
    "### centroid calculation"
   ]
  },
  {
   "cell_type": "code",
   "execution_count": 40,
   "id": "6681e37d",
   "metadata": {},
   "outputs": [
    {
     "name": "stdout",
     "output_type": "stream",
     "text": [
      "145 144\n",
      "63 130\n",
      "228 152\n"
     ]
    }
   ],
   "source": [
    "counter = 0\n",
    "for image in images:\n",
    "    \n",
    "    # keeping count of the images \n",
    "    counter += 1\n",
    "    \n",
    "    # turning images to HSV\n",
    "    img = cv2.imread(image)\n",
    "    img_hsv = cv2.cvtColor(img, cv2.COLOR_BGR2HSV)\n",
    "    \n",
    "    \n",
    "    # thresholding \n",
    "    lower_bound = np.array([0, 5, 0])\n",
    "    upper_bound = np.array([255, 255, 255])\n",
    "    imagemask = cv2.inRange(img_hsv, lower_bound, upper_bound)\n",
    "    cv2.imshow(\"image\", imagemask)\n",
    "    cv2.waitKey(0)\n",
    "    cv2.destroyAllWindows\n",
    "    \n",
    "    # finding the contours \n",
    "    cnts = cv2.findContours(imagemask.copy(), cv2.RETR_EXTERNAL, cv2.CHAIN_APPROX_SIMPLE)\n",
    "    cnts = imutils.grab_contours(cnts)\n",
    "    \n",
    "    center_counter = 0\n",
    "    for c in cnts:\n",
    "        center_counter += 1\n",
    "        \n",
    "        if center_counter == 1 and counter == 3:\n",
    "            continue\n",
    "        \n",
    "        M = cv2.moments(c)\n",
    "        try:\n",
    "            cX = int(M[\"m10\"] / M[\"m00\"])\n",
    "            cY = int(M[\"m01\"] / M[\"m00\"])\n",
    "        except:\n",
    "            pass\n",
    "\n",
    "        cv2.drawContours(img, [c], -1, (0, 0, 255), 2)\n",
    "        cv2.circle(img, (cX, cY), 7, (255, 255, 255), -1)\n",
    "        cv2.putText(img, \"center\", (cX-20, cY-20), cv2.FONT_HERSHEY_SIMPLEX, 0.5, (255, 255, 255), 2)\n",
    "        \n",
    "        print(cX, cY)\n",
    "        cv2.imshow(\"Image\", img)\n",
    "        cv2.waitKey(0)\n",
    "        cv2.destroyAllWindows\n",
    "        \n",
    "        cv2.imwrite(image[:-4] + ' - centeroid.png', img)"
   ]
  },
  {
   "cell_type": "markdown",
   "id": "d26da1db",
   "metadata": {},
   "source": [
    "### calculating angle"
   ]
  },
  {
   "cell_type": "code",
   "execution_count": 10,
   "id": "66009810",
   "metadata": {},
   "outputs": [
    {
     "name": "stdout",
     "output_type": "stream",
     "text": [
      "-19.79887580871582 deg\n",
      "-64.29004669189453 deg\n",
      "-0.0 deg\n"
     ]
    }
   ],
   "source": [
    "counter = 0\n",
    "for image in images:\n",
    "    \n",
    "    # keeping count of images \n",
    "    counter += 1\n",
    "    \n",
    "    # turning images to HSV\n",
    "    img = cv2.imread(image)\n",
    "    img_hsv = cv2.cvtColor(img, cv2.COLOR_BGR2HSV)\n",
    "     \n",
    "    # thresholding \n",
    "    lower_bound = np.array([0, 5, 0])\n",
    "    upper_bound = np.array([255, 255, 255])\n",
    "    imagemask = cv2.inRange(img_hsv, lower_bound, upper_bound)\n",
    "    \n",
    "    # finding the contours \n",
    "    cntrs = cv2.findContours(imagemask.copy(), cv2.RETR_EXTERNAL, cv2.CHAIN_APPROX_SIMPLE)\n",
    "    cntrs = imutils.grab_contours(cntrs)\n",
    "    \n",
    "    # get rotated rectangle from outer contour\n",
    "    rotrect = cv2.minAreaRect(cntrs[0])\n",
    "    box = cv2.boxPoints(rotrect)\n",
    "    box = np.int0(box)\n",
    "\n",
    "    # draw rotated rectangle on copy of img as result\n",
    "    result = img.copy()\n",
    "    cv2.drawContours(result,[box],0,(0,255,0),2)\n",
    "\n",
    "    # get angle from rotated rectangle\n",
    "    angle = rotrect[-1]\n",
    "\n",
    "    # from https://www.pyimagesearch.com/2017/02/20/text-skew-correction-opencv-python/\n",
    "    # the `cv2.minAreaRect` function returns values in the\n",
    "    # range [-90, 0); as the rectangle rotates clockwise the\n",
    "    # returned angle trends to 0 -- in this special case we\n",
    "    # need to add 90 degrees to the angle\n",
    "    if angle < -45:\n",
    "        angle = -(90 + angle)\n",
    " \n",
    "    # otherwise, just take the inverse of the angle to make\n",
    "    # it positive\n",
    "    else:\n",
    "        angle = -angle\n",
    "\n",
    "    print(angle,\"deg\")\n",
    "\n",
    "    # write result to disk\n",
    "    cv2.imwrite(\"wing2_rotrect.png\", result)\n",
    "\n",
    "#     cv2.imshow(\"THRESH\", imagemask)\n",
    "    cv2.imshow(\"RESULT\", result)\n",
    "    cv2.waitKey(0)\n",
    "    cv2.destroyAllWindows()\n",
    "    \n",
    "    cv2.imwrite(image[:-4] + ' - angle.png', result)"
   ]
  },
  {
   "cell_type": "markdown",
   "id": "630fbc7d",
   "metadata": {},
   "source": []
  }
 ],
 "metadata": {
  "kernelspec": {
   "display_name": "robotics",
   "language": "python",
   "name": "robotics"
  },
  "language_info": {
   "codemirror_mode": {
    "name": "ipython",
    "version": 3
   },
   "file_extension": ".py",
   "mimetype": "text/x-python",
   "name": "python",
   "nbconvert_exporter": "python",
   "pygments_lexer": "ipython3",
   "version": "3.10.4"
  }
 },
 "nbformat": 4,
 "nbformat_minor": 5
}
